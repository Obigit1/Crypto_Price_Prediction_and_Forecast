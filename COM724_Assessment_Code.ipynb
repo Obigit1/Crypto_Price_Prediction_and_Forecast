# Cryptocurrency Analysis 
import yfinance as yf
import pandas as pd
import numpy as np
from sklearn.impute import SimpleImputer
from sklearn.preprocessing import MinMaxScaler
import warnings
warnings.filterwarnings("ignore")

# Define a list of 30 cryptocurrencies
cryptos = ["BTC-USD", "ETH-USD", "XRP-USD", "LTC-USD", "ADA-USD", "DOT1-USD", "XLM-USD", "LINK-USD", 
           "BNB-USD", "DOGE-USD", "SOL1-USD", "USDC-USD", "UNI3-USD", "WBTC-USD", "ATOM1-USD", "AVAX-USD", 
           "LUNA1-USD", "FIL-USD", "TRX-USD", "XEM-USD", "MIOTA-USD", "XTZ-USD", "AAVE-USD", "EOS-USD", 
           "FTT-USD", "ALGO-USD", "XMR-USD", "NEO-USD", "MKR-USD"]

# Download historical data for the past year
data = yf.download(cryptos, start="2023-01-01", end="2024-01-01")
data.head(3)
data.info()
data.describe()
# Filter out cryptocurrencies with no data
new_data = data.dropna(axis=1, how='all')
new_data.head(3)
# Access the 'Close' data using the 'Price' level
close_data = new_data['Close']

# Display the extracted data
print("\nExtracted Close Data:")
print(close_data.head(3))
close_data.count()
# Interpolate missing values
close_data['MIOTA-USD'] = close_data['MIOTA-USD'].interpolate()

# Display the extracted data after interpolation
print("\nExtracted Close Data after Interpolation:")
print(close_data.head(3))

close_data.count()
transposed_data = close_data.T
transposed_data.head(5)
#### DIMENSIONAL REDUCTION ANALYSIS USING PRINCIPLE COMPONENT 
from sklearn.decomposition import PCA
from sklearn.preprocessing import StandardScaler

# Apply PCA for dimensionality reduction
pca = PCA(n_components=10)  # the number of components at 10
reduced_data = pca.fit_transform(transposed_data)

# Create a DataFrame with reduced data
reduced_df = pd.DataFrame(data=reduced_data, index=transposed_data.index, columns=[f'PC{i+1}' for i in range(reduced_data.shape[1])])

# Display the reduced DataFrame
print(reduced_df.head())
#### CLUSTERING ANALYSIS USING K-MEANS
from sklearn.cluster import KMeans

# Specify the number of clusters
num_clusters = 4

# Initialize KMeans model
kmeans_model = KMeans(n_clusters=num_clusters, random_state=42)

# Fit the model to the reduced data
kmeans_model.fit(reduced_df)

# Get the cluster labels
cluster_labels = kmeans_model.labels_

# Add cluster labels to the DataFrame
reduced_df['Cluster'] = cluster_labels

# Display the DataFrame with cluster labels
#print(reduced_df.head())

# Display only the 'Cluster' column
print(reduced_df['Cluster'])

#### SELECTED CRYPOCURRENCIES
# Select crypto from each cluster
selected_cryptos = ['BNB-USD', 'BTC-USD', 'ETH-USD', 'MKR-USD']

# Create a DataFrame containing only the selected cryptocurrencies
selected_data = reduced_df[reduced_df.index.isin(selected_cryptos)]

# Display the DataFrame
selected_data

#### CORRELATION ANALYSIS
# Selected cryptocurrencies
selected_cryptos = ['BNB-USD', 'BTC-USD', 'ETH-USD', 'MKR-USD']

# Calculate correlation matrix
corr_matrix = close_data.corr()

# Function to get top correlated pairs
def top_correlated_pairs(corr_matrix, crypto):
    # Get correlations for the specified cryptocurrency
    correlations = corr_matrix[crypto]

    # Exclude the cryptocurrency itself
    correlations = correlations[correlations.index != crypto]

    # Get the top 4 positive and negative correlations
    top_positive = correlations.nlargest(4)
    top_negative = correlations.nsmallest(4)

    return top_positive, top_negative

# Display top correlated pairs for each selected cryptocurrency
for crypto in selected_cryptos:
    print(f"\nTop correlated pairs for {crypto}:\n")

    # Positive correlations
    top_positive, top_negative = top_correlated_pairs(corr_matrix, crypto)

    print("Top Positive Correlations:")
    print(top_positive)

    print("\nTop Negative Correlations:")
    print(top_negative)
selected_data
##### HISTORICAL DATA OF THE FOUR SELECTED CRYPTOCURRENCY
# Download the historical data of the selected cryptos
chosen_cryptos = ["BTC-USD", "ETH-USD", "MKR-USD", "BNB-USD"]

# Download historical data for the past years
selected_crypto_dataset = yf.download(chosen_cryptos, start="2019-02-01", end="2024-02-01")

# Display the first few rows of the data
selected_crypto_dataset.head(5)
#### PREPROCESS THE HISTORICAL DATA
selected_crypto_dataset.info()
# Extract the Close columns from each ticker
selected_crypto_dataset = selected_crypto_dataset['Close']

# Display the extracted data
print("\nExtracted Close Data:")
print(selected_crypto_dataset.head())
selected_crypto_dataset.count()
selected_crypto_dataset.describe()
#### EXPLORATORY DATA ANALYSIS


# Assuming selected_crypto_dataset is your DataFrame
correlation_matrix = selected_crypto_dataset.corr()

# Print the correlation matrix
print("Correlation Matrix:")
print(correlation_matrix)

import seaborn as sns
import matplotlib.pyplot as plt

# Set the size of the heatmap
plt.figure(figsize=(5, 3))

# Generate the heatmap
sns.heatmap(selected_crypto_dataset.corr(), cmap='coolwarm', annot=True, fmt=".2f", linewidths=.3)

# Set the title
plt.title("Cryptocurrency Close Price Correlation Heatmap", fontsize=14)

# Display the plot
plt.show()
import plotly.graph_objs as go
from plotly.subplots import make_subplots

# Create subplots with specified row heights
fig = make_subplots(rows=4, cols=1, subplot_titles=("BTC-USD", "ETH-USD", "MKR-USD", "BNB-USD"), row_heights=[0.3, 0.3, 0.3, 0.3])

# Add traces for each ticker
for i, column in enumerate(selected_crypto_dataset.columns, start=1):
    fig.add_trace(go.Scatter(x=selected_crypto_dataset.index, y=selected_crypto_dataset[column], mode='lines', name=column), row=i, col=1)  # Change row=i+1 to row=i

# Update layout
fig.update_layout(title='Cryptocurrency Prices Over Time', xaxis_title='Date', yaxis_title='Price', height=800)

# Show plot
fig.show()

# Define colors for each cryptocurrency
colors = ['blue', 'green', 'red', 'orange']

# Plot histograms for each cryptocurrency with different colors
for i, column in enumerate(selected_crypto_dataset.columns):
    plt.figure(figsize=(8, 6))
    plt.hist(selected_crypto_dataset[column], bins=50, alpha=0.7, color=colors[i])
    plt.title(f'Histogram of {column} Prices')
    plt.xlabel('Price')
    plt.ylabel('Frequency')
    plt.grid(True, alpha=0.2)
    plt.show()

import matplotlib.pyplot as plt

# Plot boxplots for each cryptocurrency
plt.figure(figsize=(12, 8))
selected_crypto_dataset.boxplot()
plt.title('Boxplot of Cryptocurrency Prices')
plt.xlabel('Cryptocurrency')
plt.ylabel('Price')
plt.grid(True)
plt.show()


import matplotlib.pyplot as plt

# Plot area chart for each cryptocurrency pair
plt.figure(figsize=(12, 8))
plt.fill_between(selected_crypto_dataset.index, selected_crypto_dataset['BTC-USD'], label='BTC-USD', alpha=0.3)
plt.fill_between(selected_crypto_dataset.index, selected_crypto_dataset['ETH-USD'], label='ETH-USD', alpha=0.3)
plt.fill_between(selected_crypto_dataset.index, selected_crypto_dataset['MKR-USD'], label='MKR-USD', alpha=0.3)
plt.fill_between(selected_crypto_dataset.index, selected_crypto_dataset['BNB-USD'], label='BNB-USD', alpha=0.3)

plt.title('Area Chart of Cryptocurrency Prices Over Time')
plt.xlabel('Date')
plt.ylabel('Price')
plt.legend()
plt.grid(True)
plt.show()

import matplotlib.pyplot as plt

# Aggregate cryptocurrency prices for a specific date
total_prices = selected_crypto_dataset.iloc[-1].sum()

# Calculate the proportion of each cryptocurrency's price within the total
proportions = selected_crypto_dataset.iloc[-1] / total_prices

# Plot pie chart
plt.figure(figsize=(6, 6))
plt.pie(proportions, labels=selected_crypto_dataset.columns, autopct='%1.1f%%', startangle=140)
plt.title('Distribution of Cryptocurrency Prices')
plt.legend(loc="best")
plt.show()

import squarify
# Calculate the total price for each ticker
total_prices = selected_crypto_dataset.sum()

# Plot treemap
plt.figure(figsize=(10, 5))
squarify.plot(sizes=total_prices, label=total_prices.index, alpha=0.7)
plt.axis('off')
plt.title('Cryptocurrency Treemap')
plt.show()

print(selected_crypto_dataset)

new_df = selected_crypto_dataset
# Reset the index to make 'Date' a regular column
new_df.reset_index(inplace=True)

# Rename the columns
new_df.columns = ['Date', 'BNB-USD', 'BTC-USD', 'ETH-USD', 'MKR-USD']

# Check the DataFrame to ensure the changes are applied correctly
print(new_df.head())

#
# LSTM MODEL
from tempfile import NamedTemporaryFile
from sklearn.preprocessing import StandardScaler
from keras.models import Sequential
import keras
from keras.layers import LSTM, Bidirectional, Dropout, Dense
from keras.callbacks import EarlyStopping, ModelCheckpoint
from pandas.plotting import register_matplotlib_converters


# Define load_historical_data function
def load_historical_data(new_df=None):
    chosen_cryptos = ["BTC-USD", "ETH-USD", "MKR-USD", "BNB-USD"]
    start_date = "2019-02-01"
    end_date = "2024-02-01"
    selected_crypto_dataset = yf.download(chosen_cryptos, start=start_date, end=end_date)
    close_historical_data = selected_crypto_dataset['Close']
    if selected_crypto:
        close_historical_data = close_historical_data[[selected_crypto]]
    return close_historical_data

# Define function to select cryptocurrency
def select_crypto():
    print("Available cryptocurrencies: BTC-USD, ETH-USD, MKR-USD, BNB-USD")
    selected_crypto = input("Enter the cryptocurrency symbol you want to analyze (e.g., BTC-USD): ")
    return selected_crypto.upper()


# Load historical data
selected_crypto = select_crypto()  # Choose the cryptocurrency
selected_crypto_data = load_historical_data(selected_crypto)

# Extract 'Date' and 'chosen crypto' columns from the DataFrame
dates = selected_crypto_data.index
crypto_values = selected_crypto_data[selected_crypto]

# Plot the data
plt.figure(figsize=(10, 6))
plt.plot(dates, crypto_values)
plt.title(f'{selected_crypto} Over Time')
plt.xlabel('Date')
plt.ylabel('Price (USD)')
plt.grid(True)
plt.show()

# Prepare the data
train_size = int(len(selected_crypto_data) * 0.7)
test_size = len(selected_crypto_data) - train_size
train = selected_crypto_data.iloc[:train_size]
test = selected_crypto_data.iloc[train_size:]


# Scale the data
scaler = StandardScaler()
train_scaled = scaler.fit_transform(train)
test_scaled = scaler.transform(test)

# Define create_dataset function
def create_dataset(X, y, time_steps=1):
    Xs, ys = [], []
    for i in range(len(X) - time_steps):
        v = X[i:(i + time_steps)]
        Xs.append(v)
        ys.append(y[i + time_steps])
    return np.array(Xs), np.array(ys)

time_steps = 10

# Create datasets for LSTM model
X_train, y_train = create_dataset(train_scaled, train_scaled[:, 0], time_steps)
X_test, y_test = create_dataset(test_scaled, test_scaled[:, 0], time_steps)

# Build the LSTM model
model = Sequential([
    Bidirectional(LSTM(units=128, input_shape=(X_train.shape[1], X_train.shape[2]))),
    Dropout(rate=0.2),
    Dense(units=1)
])
model.compile(loss='mean_squared_error', optimizer='adam')
# Define callbacks for early stopping and saving the best model
early_stopping = EarlyStopping(monitor='val_loss', patience=10, mode='min')
best_model_file = NamedTemporaryFile(suffix='.h5', delete=False)
best_model = ModelCheckpoint(best_model_file.name, save_best_only=True, 
                             monitor='val_loss', mode='min', verbose=1)

# Train the model
history = model.fit(
    X_train, y_train,
    epochs=30,
    batch_size=32,
    validation_split=0.1,
    shuffle=False,
    callbacks=[early_stopping, best_model]
)

# Plot training and validation loss
plt.plot(history.history['loss'], label='train')
plt.plot(history.history['val_loss'], label='test')
plt.legend()
plt.show()

# Load the best model
best_model = keras.models.load_model(best_model_file.name)

# Make predictions
y_pred = best_model.predict(X_test)

# Inverse transform the predictions and true values
y_train_inv = scaler.inverse_transform(y_train.reshape(-1, 1))
y_test_inv = scaler.inverse_transform(y_test.reshape(-1, 1))
y_pred_inv = scaler.inverse_transform(y_pred)
# Plot the results
plt.plot(np.arange(0, len(y_train)), y_train_inv.flatten(), 'g', label="history")
plt.plot(np.arange(len(y_train), len(y_train) + len(y_test)), y_test_inv.flatten(), marker='.', label="true")
plt.plot(np.arange(len(y_train), len(y_train) + len(y_test)), y_pred_inv.flatten(), 'r', label="prediction")
plt.ylabel('Close')
plt.xlabel('Time Step')
plt.legend()
plt.show()



plt.plot(y_test_inv.flatten(), marker='.', label="true")
plt.plot(y_pred_inv.flatten(), 'r', label="prediction")
plt.ylabel(selected_crypto)
plt.xlabel('Time Step')
plt.legend()
plt.show()
from sklearn.metrics import mean_squared_error, mean_absolute_error, r2_score
import numpy as np

# Calculate RMSE
rmse = np.sqrt(mean_squared_error(y_test_inv, y_pred_inv))

# Calculate MAPE (Mean Absolute Percentage Error)
def mean_absolute_percentage_error(y_true, y_pred):
    return np.mean(np.abs((y_true - y_pred) / y_true)) * 100
mape = mean_absolute_percentage_error(y_test_inv, y_pred_inv)

# Calculate MSE
mse = mean_squared_error(y_test_inv, y_pred_inv)

# Calculate MAE
mae = mean_absolute_error(y_test_inv, y_pred_inv)

# Calculate R2 score
r2 = r2_score(y_test_inv, y_pred_inv)

print("RMSE:", rmse)
print("MAPE:", mape)
print("MSE:", mse)
print("MAE:", mae)
print("R2 Score:", r2)

#
# PROPHET MODEL
from prophet import Prophet

# Download historical data for the past year
def load_historical_data(new_df=None):
    chosen_cryptos = ["BTC-USD", "ETH-USD", "MKR-USD", "BNB-USD"]
    start_date = "2019-02-01"
    end_date = "2024-02-01"
    selected_crypto_dataset = yf.download(chosen_cryptos, start=start_date, end=end_date)
    close_historical_data = selected_crypto_dataset['Close']
    if selected_crypto:
        close_historical_data = close_historical_data[[selected_crypto]]
    return close_historical_data


# Load historical data for selected cryptocurrency
def load_data(selected_crypto=None):
    data = load_historical_data(selected_crypto)
    data.reset_index(inplace=True)
    data.columns = ['ds', 'y']
    return data

# Predict using Prophet
def predict_prophet(data):
    model = Prophet()
    model.fit(data)
    future_dates = model.make_future_dataframe(periods=360)
    prediction = model.predict(future_dates)
    return model, prediction

# Allow user to select cryptocurrency
selected_crypto = input("Enter the cryptocurrency (e.g., BTC-USD, ETH-USD, MKR-USD, BNB-USD): ").upper()

# Load data for selected cryptocurrency
data = load_data(selected_crypto)

# Predict using Prophet
model, prediction = predict_prophet(data)


# Plot prediction and components

plt.figure(figsize=(15,12))
fig = model.plot(prediction)

plt.title(f'{selected_crypto} Price Prediction (Prophet)')
plt.xlabel('Date')
plt.ylabel('Price')
plt.legend(loc='best')
plt.show()

fig2 = model.plot_components(prediction)
plt.show()

# Calculate RMSE
rmse = np.sqrt(mean_squared_error(data['y'], prediction['yhat'][:len(data)]))

# Calculate MAPE (Mean Absolute Percentage Error)
def mean_absolute_percentage_error(y_true, y_pred):
    return np.mean(np.abs((y_true - y_pred) / y_true)) * 100
mape = mean_absolute_percentage_error(data['y'], prediction['yhat'][:len(data)])

# Calculate MSE
mse = mean_squared_error(data['y'], prediction['yhat'][:len(data)])

# Calculate MAE
mae = mean_absolute_error(data['y'], prediction['yhat'][:len(data)])

# Calculate R2 score
r2 = r2_score(data['y'], prediction['yhat'][:len(data)])

print("RMSE:", rmse)
print("MAPE:", mape)
print("MSE:", mse)
print("MAE:", mae)
print("R2 Score:", r2)

from statsmodels.tsa.arima.model import ARIMA
import warnings
from statsmodels.tools.sm_exceptions import ConvergenceWarning

# Suppress ConvergenceWarnings
warnings.filterwarnings("ignore", category=ConvergenceWarning)


def load_historical_data(new_df=None):
    chosen_cryptos = ["BTC-USD", "ETH-USD", "MKR-USD", "BNB-USD"]
    start_date = "2019-02-01"
    end_date = "2024-02-01"
    selected_crypto_dataset = yf.download(chosen_cryptos, start=start_date, end=end_date)
    try:
        close_historical_data = selected_crypto_dataset['Close']
        if selected_crypto:
            close_historical_data = close_historical_data[selected_crypto.upper()]
        return close_historical_data
    except KeyError:
        print("Error: The selected cryptocurrency is not available.")
        print("Available cryptocurrencies:")
        print(", ".join(chosen_cryptos))
        return None

# Load historical data
while True:
    selected_crypto = input("Enter the cryptocurrency symbol you want to analyze (e.g., BTC-USD): ").upper()
    selected_crypto_data = load_historical_data(selected_crypto)
    if selected_crypto_data is not None:
        break

# Reshape the data to a 2D array
selected_crypto_data_2d = selected_crypto_data.values.reshape(-1, 1)

# Scale the data using StandardScaler
scaler = StandardScaler()
scaled_data = scaler.fit_transform(selected_crypto_data_2d)

# Split the scaled data into training and testing sets
split_data = int(len(scaled_data) * 0.9)
training_data = scaled_data[:split_data]
testing_data = scaled_data[split_data:]
# Build ARIMA model
model_predictions = []
n_test_obser = len(testing_data)

for i in range(n_test_obser):
    model = ARIMA(training_data, order=(4, 1, 0))
    model_fit = model.fit()
    output = model_fit.forecast()
    yhat = output[0]
    model_predictions.append(yhat)
    actual_test_value = testing_data[i]
    training_data = np.append(training_data, [actual_test_value])

# Inverse transform the predicted and actual values to the original scale
model_predictions = scaler.inverse_transform(np.array(model_predictions).reshape(-1, 1)).flatten()
actual_values = scaler.inverse_transform(testing_data.reshape(-1, 1)).flatten()

# Plotting the actual and predicted values
plt.figure(figsize=(10, 6))
plt.grid()
date_range = selected_crypto_data[split_data:].index
plt.plot(date_range, model_predictions, color='green', marker='.', linestyle='dashed', label='Predicted')
plt.plot(date_range, actual_values, color='b', label='Actual')  # Plotting actual values
plt.title(f'{selected_crypto} Actual vs. Predicted Prices (ARIMA)')
plt.xlabel('Time')
plt.ylabel('Price')
plt.legend()
plt.show()



#print(model_fit.summary())

# Compute RMSE
rmse = np.sqrt(mean_squared_error(actual_values, model_predictions))

# Compute MAPE
mape = mean_absolute_percentage_error(actual_values, model_predictions)

# Compute MSE
mse = mean_squared_error(actual_values, model_predictions)

# Compute MAE
mae = mean_absolute_error(actual_values, model_predictions)

# Compute R2 Score
r2 = r2_score(actual_values, model_predictions)

# Print evaluation metrics
print("RMSE:", rmse)
print("MAPE:", mape)
print("MSE:", mse)
print("MAE:", mae)
print("R2 Score:", r2)

from sklearn.model_selection import train_test_split
from sklearn.svm import SVR


# Define function to load historical data
def load_historical_data(selected_crypto):
    chosen_cryptos = ["BTC-USD", "ETH-USD", "MKR-USD", "BNB-USD"]
    start_date = "2019-02-01"
    end_date = "2024-02-01"
    selected_crypto_dataset = yf.download(chosen_cryptos, start=start_date, end=end_date)
    try:
        close_historical_data = selected_crypto_dataset['Close']
        if selected_crypto:
            close_historical_data = close_historical_data[selected_crypto.upper()]
        return close_historical_data
    except KeyError:
        print("Error: The selected cryptocurrency is not available.")
        print("Available cryptocurrencies:")
        print(", ".join(chosen_cryptos))
        return None

# Load historical data for selected cryptocurrency
while True:
    selected_crypto = input("Enter the cryptocurrency symbol you want to analyze (e.g., BTC-USD): ").upper()
    selected_crypto_data = load_historical_data(selected_crypto)
    if selected_crypto_data is not None:
        break

# Define prediction days
prediction_days = 30

# Create another column shifted n units up
btc_df = selected_crypto_data.to_frame()
btc_df['Prediction'] = btc_df[selected_crypto].shift(-prediction_days)

# Prepare features (X) and target (y)
X = np.array(btc_df.drop(['Prediction'], axis=1))
X = X[:-prediction_days]
y = np.array(btc_df['Prediction'])
y = y[:-prediction_days]


# Split the data into training and testing sets
x_train, x_test, y_train, y_test = train_test_split(X, y, test_size=0.2)

# Prepare prediction days array
prediction_days_array = np.array(btc_df.drop(['Prediction'], axis=1))[-prediction_days:]

# Create and train the support Vector Machine (Regression) using radial basis function
svr_rbf = SVR(kernel='rbf', C=1e3, gamma=0.00001)
svr_rbf.fit(x_train, y_train)

# Calculate confidence score
svr_rbf_confidence = svr_rbf.score(x_test, y_test)

#print(svr_rbf_confidence)


# Perform predictions
svm_prediction = svr_rbf.predict(x_test)
svm_prediction_future = svr_rbf.predict(prediction_days_array)

# Convert prediction dates to datetime objects
prediction_dates = pd.to_datetime(btc_df.index[-prediction_days:])

# Plot actual vs. predicted values
plt.figure(figsize=(10, 6))
plt.plot(prediction_dates, y[-prediction_days:], label='Actual', color='blue', marker='.')
plt.plot(prediction_dates, svm_prediction_future, label='Predicted', color='red', marker='x')

plt.title('Actual vs. Predicted BTC Prices')
plt.xlabel('Date')
plt.ylabel('Price (USD)')
plt.legend()

plt.xticks(rotation=45)  # Rotate x-axis labels for better readability

plt.tight_layout()
plt.show()


# Calculate evaluation metrics
mse = mean_squared_error(y_test, svm_prediction)
mae = mean_absolute_error(y_test, svm_prediction)
rmse = np.sqrt(mse)
mape = np.mean(np.abs((y_test - svm_prediction) / y_test)) * 100
r2 = r2_score(y_test, svm_prediction)

# Print evaluation metrics
print("MSE:", mse)
print("MAE:", mae)
print("RMSE:", rmse)
print("MAPE:", mape)

print("R2 Score:", r2)





